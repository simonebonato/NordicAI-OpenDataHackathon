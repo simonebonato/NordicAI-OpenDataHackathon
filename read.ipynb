{
 "cells": [
  {
   "cell_type": "code",
   "execution_count": 28,
   "metadata": {
    "collapsed": true
   },
   "outputs": [],
   "source": [
    "import json\n",
    "\n",
    "import pandas as pd\n",
    "import os\n",
    "import shutil"
   ]
  },
  {
   "cell_type": "code",
   "execution_count": 18,
   "outputs": [],
   "source": [
    "weather_ds = pd.read_csv('datasets/sweden/SE_weather.csv', sep=';')\n",
    "incidents_ds = pd.read_csv('datasets/sweden/SE_incidents.csv', sep=';')"
   ],
   "metadata": {
    "collapsed": false,
    "pycharm": {
     "name": "#%%\n"
    }
   }
  },
  {
   "cell_type": "code",
   "execution_count": 19,
   "outputs": [
    {
     "data": {
      "text/plain": "        Datum Tid (UTC)  Station  Latitud (decimalgrader)  \\\n0  2022-03-15  12:00:00  Såtenäs                  58.4280   \n1  2022-03-15  13:00:00  Såtenäs                  58.4281   \n2  2022-03-15  14:00:00  Såtenäs                  58.4282   \n3  2022-03-15  15:00:00  Såtenäs                  58.4283   \n4  2022-03-15  16:00:00  Såtenäs                  58.4284   \n\n   Longitud (decimalgrader)  Lufttemperatur (degrees celsius)  Weather  \\\n0                   12.7110                               4.6    100.0   \n1                   12.7111                               4.7    100.0   \n2                   12.7112                               5.8    100.0   \n3                   12.7113                               5.3    100.0   \n4                   12.7114                               3.4    100.0   \n\n   Rain (mm)  Unnamed: 8  Unnamed: 9  \n0        0.0         NaN         NaN  \n1        0.0         NaN         NaN  \n2        0.0         NaN         NaN  \n3        0.0         NaN         NaN  \n4        0.0         NaN         NaN  ",
      "text/html": "<div>\n<style scoped>\n    .dataframe tbody tr th:only-of-type {\n        vertical-align: middle;\n    }\n\n    .dataframe tbody tr th {\n        vertical-align: top;\n    }\n\n    .dataframe thead th {\n        text-align: right;\n    }\n</style>\n<table border=\"1\" class=\"dataframe\">\n  <thead>\n    <tr style=\"text-align: right;\">\n      <th></th>\n      <th>Datum</th>\n      <th>Tid (UTC)</th>\n      <th>Station</th>\n      <th>Latitud (decimalgrader)</th>\n      <th>Longitud (decimalgrader)</th>\n      <th>Lufttemperatur (degrees celsius)</th>\n      <th>Weather</th>\n      <th>Rain (mm)</th>\n      <th>Unnamed: 8</th>\n      <th>Unnamed: 9</th>\n    </tr>\n  </thead>\n  <tbody>\n    <tr>\n      <th>0</th>\n      <td>2022-03-15</td>\n      <td>12:00:00</td>\n      <td>Såtenäs</td>\n      <td>58.4280</td>\n      <td>12.7110</td>\n      <td>4.6</td>\n      <td>100.0</td>\n      <td>0.0</td>\n      <td>NaN</td>\n      <td>NaN</td>\n    </tr>\n    <tr>\n      <th>1</th>\n      <td>2022-03-15</td>\n      <td>13:00:00</td>\n      <td>Såtenäs</td>\n      <td>58.4281</td>\n      <td>12.7111</td>\n      <td>4.7</td>\n      <td>100.0</td>\n      <td>0.0</td>\n      <td>NaN</td>\n      <td>NaN</td>\n    </tr>\n    <tr>\n      <th>2</th>\n      <td>2022-03-15</td>\n      <td>14:00:00</td>\n      <td>Såtenäs</td>\n      <td>58.4282</td>\n      <td>12.7112</td>\n      <td>5.8</td>\n      <td>100.0</td>\n      <td>0.0</td>\n      <td>NaN</td>\n      <td>NaN</td>\n    </tr>\n    <tr>\n      <th>3</th>\n      <td>2022-03-15</td>\n      <td>15:00:00</td>\n      <td>Såtenäs</td>\n      <td>58.4283</td>\n      <td>12.7113</td>\n      <td>5.3</td>\n      <td>100.0</td>\n      <td>0.0</td>\n      <td>NaN</td>\n      <td>NaN</td>\n    </tr>\n    <tr>\n      <th>4</th>\n      <td>2022-03-15</td>\n      <td>16:00:00</td>\n      <td>Såtenäs</td>\n      <td>58.4284</td>\n      <td>12.7114</td>\n      <td>3.4</td>\n      <td>100.0</td>\n      <td>0.0</td>\n      <td>NaN</td>\n      <td>NaN</td>\n    </tr>\n  </tbody>\n</table>\n</div>"
     },
     "execution_count": 19,
     "metadata": {},
     "output_type": "execute_result"
    }
   ],
   "source": [
    "weather_ds.head()"
   ],
   "metadata": {
    "collapsed": false,
    "pycharm": {
     "name": "#%%\n"
    }
   }
  },
  {
   "cell_type": "code",
   "execution_count": 20,
   "outputs": [
    {
     "data": {
      "text/plain": "  CountryCode  Deleted  Deviation/0/CountyNo/0 Deviation/0/Creator  \\\n0          se    False                    14.0        Trafikverket   \n1          se    False                    24.0        Trafikverket   \n2          se    False                     3.0        Trafikverket   \n3          se    False                     5.0        Trafikverket   \n4          se    False                     6.0        Trafikverket   \n\n        Deviation/0/CreationTime Deviation/0/Geometry/SWEREF99TM  \\\n0  1999-01-26T14:15:52.660+01:00       POINT (297160.02 6460440)   \n1  1999-03-02T16:46:21.140+01:00    POINT (785909.97 7092019.94)   \n2  2000-03-01T15:55:22.207+01:00    POINT (690189.02 6694314.07)   \n3  2011-06-13T16:15:18.200+02:00    POINT (592554.96 6500334.15)   \n4  2001-04-02T15:16:08.690+02:00    POINT (461668.98 6432526.84)   \n\n      Deviation/0/Geometry/WGS84                    Deviation/0/Header  \\\n0    POINT (11.5444756 58.23826)                             Ängöleden   \n1     POINT (20.817894 63.83812)                            Holmöleden   \n2  POINT (18.4463024 60.3405762)                            Gräsöleden   \n3  POINT (16.5941715 58.6334229)                           Skenäsleden   \n4  POINT (14.3509254 58.0326271)  Visingsöleden  (avgiftsbelagd färja)   \n\n         Deviation/0/IconId            Deviation/0/Id  ...  \\\n0  ferryDepartureOnSchedule   SE_STA_TRISSID_1_121042  ...   \n1  ferryDepartureOnSchedule   SE_STA_TRISSID_1_136722  ...   \n2  ferryDepartureOnSchedule  SE_STA_TRISSID_1_1030734  ...   \n3  ferryDepartureOnSchedule  SE_STA_TRISSID_1_5105236  ...   \n4  ferryDepartureOnSchedule  SE_STA_TRISSID_1_1368740  ...   \n\n   Deviation/1/Schedule/3/EndOfPeriod  \\\n0                                 NaN   \n1                                 NaN   \n2                                 NaN   \n3                                 NaN   \n4                                 NaN   \n\n  Deviation/1/Schedule/3/RecurringTimePeriodOfDay/0/End  \\\n0                                                NaN      \n1                                                NaN      \n2                                                NaN      \n3                                                NaN      \n4                                                NaN      \n\n  Deviation/1/Schedule/3/RecurringTimePeriodOfDay/0/Start  \\\n0                                                NaN        \n1                                                NaN        \n2                                                NaN        \n3                                                NaN        \n4                                                NaN        \n\n  Deviation/1/Schedule/3/StartOfPeriod  Deviation/1/Schedule/4/EndOfPeriod  \\\n0                                  NaN                                 NaN   \n1                                  NaN                                 NaN   \n2                                  NaN                                 NaN   \n3                                  NaN                                 NaN   \n4                                  NaN                                 NaN   \n\n  Deviation/1/Schedule/4/RecurringTimePeriodOfDay/0/End  \\\n0                                                NaN      \n1                                                NaN      \n2                                                NaN      \n3                                                NaN      \n4                                                NaN      \n\n  Deviation/1/Schedule/4/RecurringTimePeriodOfDay/0/Start  \\\n0                                                NaN        \n1                                                NaN        \n2                                                NaN        \n3                                                NaN        \n4                                                NaN        \n\n  Deviation/1/Schedule/4/StartOfPeriod Deviation/1/Schedule/5/EndOfPeriod  \\\n0                                  NaN                                NaN   \n1                                  NaN                                NaN   \n2                                  NaN                                NaN   \n3                                  NaN                                NaN   \n4                                  NaN                                NaN   \n\n  Deviation/1/Schedule/5/RecurringTimePeriodOfDay/0/End  \n0                                                NaN     \n1                                                NaN     \n2                                                NaN     \n3                                                NaN     \n4                                                NaN     \n\n[5 rows x 1000 columns]",
      "text/html": "<div>\n<style scoped>\n    .dataframe tbody tr th:only-of-type {\n        vertical-align: middle;\n    }\n\n    .dataframe tbody tr th {\n        vertical-align: top;\n    }\n\n    .dataframe thead th {\n        text-align: right;\n    }\n</style>\n<table border=\"1\" class=\"dataframe\">\n  <thead>\n    <tr style=\"text-align: right;\">\n      <th></th>\n      <th>CountryCode</th>\n      <th>Deleted</th>\n      <th>Deviation/0/CountyNo/0</th>\n      <th>Deviation/0/Creator</th>\n      <th>Deviation/0/CreationTime</th>\n      <th>Deviation/0/Geometry/SWEREF99TM</th>\n      <th>Deviation/0/Geometry/WGS84</th>\n      <th>Deviation/0/Header</th>\n      <th>Deviation/0/IconId</th>\n      <th>Deviation/0/Id</th>\n      <th>...</th>\n      <th>Deviation/1/Schedule/3/EndOfPeriod</th>\n      <th>Deviation/1/Schedule/3/RecurringTimePeriodOfDay/0/End</th>\n      <th>Deviation/1/Schedule/3/RecurringTimePeriodOfDay/0/Start</th>\n      <th>Deviation/1/Schedule/3/StartOfPeriod</th>\n      <th>Deviation/1/Schedule/4/EndOfPeriod</th>\n      <th>Deviation/1/Schedule/4/RecurringTimePeriodOfDay/0/End</th>\n      <th>Deviation/1/Schedule/4/RecurringTimePeriodOfDay/0/Start</th>\n      <th>Deviation/1/Schedule/4/StartOfPeriod</th>\n      <th>Deviation/1/Schedule/5/EndOfPeriod</th>\n      <th>Deviation/1/Schedule/5/RecurringTimePeriodOfDay/0/End</th>\n    </tr>\n  </thead>\n  <tbody>\n    <tr>\n      <th>0</th>\n      <td>se</td>\n      <td>False</td>\n      <td>14.0</td>\n      <td>Trafikverket</td>\n      <td>1999-01-26T14:15:52.660+01:00</td>\n      <td>POINT (297160.02 6460440)</td>\n      <td>POINT (11.5444756 58.23826)</td>\n      <td>Ängöleden</td>\n      <td>ferryDepartureOnSchedule</td>\n      <td>SE_STA_TRISSID_1_121042</td>\n      <td>...</td>\n      <td>NaN</td>\n      <td>NaN</td>\n      <td>NaN</td>\n      <td>NaN</td>\n      <td>NaN</td>\n      <td>NaN</td>\n      <td>NaN</td>\n      <td>NaN</td>\n      <td>NaN</td>\n      <td>NaN</td>\n    </tr>\n    <tr>\n      <th>1</th>\n      <td>se</td>\n      <td>False</td>\n      <td>24.0</td>\n      <td>Trafikverket</td>\n      <td>1999-03-02T16:46:21.140+01:00</td>\n      <td>POINT (785909.97 7092019.94)</td>\n      <td>POINT (20.817894 63.83812)</td>\n      <td>Holmöleden</td>\n      <td>ferryDepartureOnSchedule</td>\n      <td>SE_STA_TRISSID_1_136722</td>\n      <td>...</td>\n      <td>NaN</td>\n      <td>NaN</td>\n      <td>NaN</td>\n      <td>NaN</td>\n      <td>NaN</td>\n      <td>NaN</td>\n      <td>NaN</td>\n      <td>NaN</td>\n      <td>NaN</td>\n      <td>NaN</td>\n    </tr>\n    <tr>\n      <th>2</th>\n      <td>se</td>\n      <td>False</td>\n      <td>3.0</td>\n      <td>Trafikverket</td>\n      <td>2000-03-01T15:55:22.207+01:00</td>\n      <td>POINT (690189.02 6694314.07)</td>\n      <td>POINT (18.4463024 60.3405762)</td>\n      <td>Gräsöleden</td>\n      <td>ferryDepartureOnSchedule</td>\n      <td>SE_STA_TRISSID_1_1030734</td>\n      <td>...</td>\n      <td>NaN</td>\n      <td>NaN</td>\n      <td>NaN</td>\n      <td>NaN</td>\n      <td>NaN</td>\n      <td>NaN</td>\n      <td>NaN</td>\n      <td>NaN</td>\n      <td>NaN</td>\n      <td>NaN</td>\n    </tr>\n    <tr>\n      <th>3</th>\n      <td>se</td>\n      <td>False</td>\n      <td>5.0</td>\n      <td>Trafikverket</td>\n      <td>2011-06-13T16:15:18.200+02:00</td>\n      <td>POINT (592554.96 6500334.15)</td>\n      <td>POINT (16.5941715 58.6334229)</td>\n      <td>Skenäsleden</td>\n      <td>ferryDepartureOnSchedule</td>\n      <td>SE_STA_TRISSID_1_5105236</td>\n      <td>...</td>\n      <td>NaN</td>\n      <td>NaN</td>\n      <td>NaN</td>\n      <td>NaN</td>\n      <td>NaN</td>\n      <td>NaN</td>\n      <td>NaN</td>\n      <td>NaN</td>\n      <td>NaN</td>\n      <td>NaN</td>\n    </tr>\n    <tr>\n      <th>4</th>\n      <td>se</td>\n      <td>False</td>\n      <td>6.0</td>\n      <td>Trafikverket</td>\n      <td>2001-04-02T15:16:08.690+02:00</td>\n      <td>POINT (461668.98 6432526.84)</td>\n      <td>POINT (14.3509254 58.0326271)</td>\n      <td>Visingsöleden  (avgiftsbelagd färja)</td>\n      <td>ferryDepartureOnSchedule</td>\n      <td>SE_STA_TRISSID_1_1368740</td>\n      <td>...</td>\n      <td>NaN</td>\n      <td>NaN</td>\n      <td>NaN</td>\n      <td>NaN</td>\n      <td>NaN</td>\n      <td>NaN</td>\n      <td>NaN</td>\n      <td>NaN</td>\n      <td>NaN</td>\n      <td>NaN</td>\n    </tr>\n  </tbody>\n</table>\n<p>5 rows × 1000 columns</p>\n</div>"
     },
     "execution_count": 20,
     "metadata": {},
     "output_type": "execute_result"
    }
   ],
   "source": [
    "incidents_ds.head()"
   ],
   "metadata": {
    "collapsed": false,
    "pycharm": {
     "name": "#%%\n"
    }
   }
  },
  {
   "cell_type": "markdown",
   "source": [],
   "metadata": {
    "collapsed": false
   }
  },
  {
   "cell_type": "code",
   "execution_count": 35,
   "outputs": [],
   "source": [
    "road_pics = os.listdir('datasets/sweden/swedenroadcamera')\n",
    "\n",
    "from_ = 'datasets/sweden/swedenroadcamera'\n",
    "to_ = 'datasets/orion_325'\n",
    "\n",
    "camera_name = 'Orion_325.jpg'\n",
    "\n",
    "\n",
    "for pic in road_pics:\n",
    "    if camera_name in pic:\n",
    "        shutil.copyfile(from_ + f'/{pic}', to_ + f'/{pic}')"
   ],
   "metadata": {
    "collapsed": false,
    "pycharm": {
     "name": "#%%\n"
    }
   }
  },
  {
   "cell_type": "code",
   "execution_count": 32,
   "outputs": [
    {
     "name": "stdout",
     "output_type": "stream",
     "text": [
      "dict_keys(['$schema', 'type', 'properties', 'required', 'additionalProperties', 'definitions'])\n"
     ]
    }
   ],
   "source": [
    "# Opening JSON file\n",
    "f = open('datasets/SE_metadata.json')\n",
    "\n",
    "# returns JSON object as\n",
    "# a dictionary\n",
    "data = json.load(f)\n",
    "\n",
    "print(data.keys())\n",
    "# Iterating through the json\n",
    "# list\n",
    "# for i in data['emp_details']:\n",
    "#     print(i)\n",
    "\n",
    "# Closing file\n",
    "f.close()\n",
    "\n"
   ],
   "metadata": {
    "collapsed": false,
    "pycharm": {
     "name": "#%%\n"
    }
   }
  },
  {
   "cell_type": "code",
   "execution_count": null,
   "outputs": [],
   "source": [],
   "metadata": {
    "collapsed": false,
    "pycharm": {
     "name": "#%%\n"
    }
   }
  }
 ],
 "metadata": {
  "kernelspec": {
   "display_name": "Python 3",
   "language": "python",
   "name": "python3"
  },
  "language_info": {
   "codemirror_mode": {
    "name": "ipython",
    "version": 2
   },
   "file_extension": ".py",
   "mimetype": "text/x-python",
   "name": "python",
   "nbconvert_exporter": "python",
   "pygments_lexer": "ipython2",
   "version": "2.7.6"
  }
 },
 "nbformat": 4,
 "nbformat_minor": 0
}